{
 "cells": [
  {
   "cell_type": "code",
   "execution_count": 1,
   "metadata": {},
   "outputs": [],
   "source": [
    "%load_ext autoreload\n",
    "%autoreload 2"
   ]
  },
  {
   "cell_type": "code",
   "execution_count": 2,
   "metadata": {},
   "outputs": [],
   "source": [
    "import DLModel\n",
    "from DLModel.layers import Dense\n",
    "from DLModel.losses import SoftmaxCrossEntropy\n",
    "from DLModel.optimizers import Optimizer, SGD, SGDMomentum, AdaGrad\n",
    "from DLModel.activationFunctions import Linear,Sigmoid, ReLU, Tanh, SELU, Swish\n",
    "from DLModel.network import NeuralNetwork\n",
    "from DLModel.train import Trainer\n",
    "from DLModel.evaluationMetrics import classification_accuracy, model_prediction,max_index, get_clf_pred\n",
    "from DLModel.utility.np_utility import to_2d, softmax, unnormalize\n",
    "\n",
    "import numpy as np\n",
    "\n",
    "import pandas as pd\n",
    "import matplotlib.pyplot as plt\n",
    "import seaborn as sr"
   ]
  },
  {
   "cell_type": "markdown",
   "metadata": {},
   "source": [
    "# Soil Classification\n",
    "\n"
   ]
  },
  {
   "cell_type": "code",
   "execution_count": 3,
   "metadata": {},
   "outputs": [],
   "source": [
    "data = pd.read_csv(r'D:\\8th Sem\\AI for Engieers\\clean_trainData.csv')\n",
    "test = pd.read_csv(r'D:\\8th Sem\\AI for Engieers\\clean_testData.csv')\n",
    "\n",
    "\n",
    "train_bands = np.array(data[['b1', 'b3', 'b2', 'b4']])\n",
    "test_bands = np.array(test[['b1','b3', 'b2', 'b4']])\n",
    "\n",
    "train_yy = np.array(data[['soil_type']])\n",
    "test_yy = np.array(test[['soil_type']])\n"
   ]
  },
  {
   "cell_type": "code",
   "execution_count": 4,
   "metadata": {},
   "outputs": [
    {
     "data": {
      "text/plain": [
       "array([[3],\n",
       "       [3],\n",
       "       [3],\n",
       "       ...,\n",
       "       [4],\n",
       "       [4],\n",
       "       [4]], dtype=int64)"
      ]
     },
     "execution_count": 4,
     "metadata": {},
     "output_type": "execute_result"
    }
   ],
   "source": [
    "train_yy"
   ]
  },
  {
   "cell_type": "code",
   "execution_count": 4,
   "metadata": {},
   "outputs": [],
   "source": [
    "# Standeardization\n",
    "\n",
    "from sklearn.preprocessing import StandardScaler\n",
    "std = StandardScaler()\n",
    "\n",
    "#train_bands = std.fit_transform(train_bands)\n",
    "#test_bands = std.fit_transform(test_bands)"
   ]
  },
  {
   "cell_type": "code",
   "execution_count": 4,
   "metadata": {},
   "outputs": [],
   "source": [
    "\n",
    "def label_encoder(y:np.ndarray, \n",
    "                 no_class: int = 6):\n",
    "    label_vector_list = []\n",
    "    for i in range(len(y)):\n",
    "        label_template = np.zeros((no_class,1))\n",
    "        if y[i][0] == 7:\n",
    "            label_template[5]=1\n",
    "        else:\n",
    "            label_template[y[i][0]-1] = 1\n",
    "        label_vector_list.append((label_template.reshape((label_template.shape[0]))))\n",
    "    return np.array(label_vector_list)\n"
   ]
  },
  {
   "cell_type": "code",
   "execution_count": 5,
   "metadata": {},
   "outputs": [],
   "source": [
    "train_yy = label_encoder(train_yy)\n",
    "test_yy = label_encoder(test_yy)\n"
   ]
  },
  {
   "cell_type": "code",
   "execution_count": 16,
   "metadata": {},
   "outputs": [],
   "source": [
    "clf = NeuralNetwork(\n",
    "    layers=[Dense(neurons=4,\n",
    "                   activation= ReLU()),\n",
    "            Dense(neurons=8,\n",
    "                   activation= ReLU()),\n",
    "            Dense(neurons=6,\n",
    "                   activation=ReLU())],\n",
    "    loss=SoftmaxCrossEntropy(),\n",
    "    seed=20190501\n",
    ")"
   ]
  },
  {
   "cell_type": "code",
   "execution_count": 17,
   "metadata": {},
   "outputs": [],
   "source": [
    "trainer = Trainer(clf, AdaGrad(lr=0.1))"
   ]
  },
  {
   "cell_type": "code",
   "execution_count": 18,
   "metadata": {},
   "outputs": [
    {
     "name": "stdout",
     "output_type": "stream",
     "text": [
      "Validation loss after 100 epochs is 1.023\n",
      "Validation loss after 200 epochs is 0.871\n",
      "Validation loss after 300 epochs is 0.765\n",
      "Validation loss after 400 epochs is 0.688\n",
      "Validation loss after 500 epochs is 0.659\n"
     ]
    }
   ],
   "source": [
    "trainer.fit(train_bands, train_yy, test_bands, test_yy,\n",
    "       epochs = 500,\n",
    "       eval_every = 100,\n",
    "       batch_size = 32,\n",
    "       seed=20190501);"
   ]
  },
  {
   "cell_type": "code",
   "execution_count": 19,
   "metadata": {},
   "outputs": [],
   "source": [
    "train_acc = classification_accuracy(clf, train_bands, train_yy)"
   ]
  },
  {
   "cell_type": "code",
   "execution_count": 20,
   "metadata": {},
   "outputs": [],
   "source": [
    "test_acc = classification_accuracy(clf, test_bands, test_yy)"
   ]
  },
  {
   "cell_type": "code",
   "execution_count": 21,
   "metadata": {},
   "outputs": [
    {
     "data": {
      "text/plain": [
       "(87.49369641956632, 85.1216814159292)"
      ]
     },
     "execution_count": 21,
     "metadata": {},
     "output_type": "execute_result"
    }
   ],
   "source": [
    "train_acc, test_acc"
   ]
  },
  {
   "cell_type": "code",
   "execution_count": null,
   "metadata": {},
   "outputs": [],
   "source": []
  }
 ],
 "metadata": {
  "hide_input": false,
  "kernelspec": {
   "display_name": "Python 3 (ipykernel)",
   "language": "python",
   "name": "python3"
  },
  "language_info": {
   "codemirror_mode": {
    "name": "ipython",
    "version": 3
   },
   "file_extension": ".py",
   "mimetype": "text/x-python",
   "name": "python",
   "nbconvert_exporter": "python",
   "pygments_lexer": "ipython3",
   "version": "3.9.7"
  },
  "toc": {
   "base_numbering": 1,
   "nav_menu": {},
   "number_sections": true,
   "sideBar": true,
   "skip_h1_title": false,
   "title_cell": "Table of Contents",
   "title_sidebar": "Contents",
   "toc_cell": false,
   "toc_position": {},
   "toc_section_display": true,
   "toc_window_display": false
  }
 },
 "nbformat": 4,
 "nbformat_minor": 4
}
