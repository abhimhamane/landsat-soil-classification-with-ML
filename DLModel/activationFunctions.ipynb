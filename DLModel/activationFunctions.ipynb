{
 "cells": [
  {
   "cell_type": "code",
   "execution_count": 1,
   "metadata": {},
   "outputs": [],
   "source": [
    "import numpy as np\n",
    "from numpy import ndarray\n",
    "\n",
    "\n",
    "from DLModel.baseClass import Operation"
   ]
  },
  {
   "cell_type": "code",
   "execution_count": null,
   "metadata": {},
   "outputs": [],
   "source": [
    "class Sigmoid(Operation):\n",
    "    '''\n",
    "    Sigmoid activation function.\n",
    "    '''\n",
    "\n",
    "    def __init__(self) -> None:\n",
    "        '''Pass'''\n",
    "        super().__init__()\n",
    "\n",
    "    def _output(self) -> ndarray:\n",
    "        '''\n",
    "        Compute output.\n",
    "        '''\n",
    "        return 1.0/(1.0+np.exp(-1.0 * self.input_))\n",
    "\n",
    "    def _input_grad(self, output_grad: ndarray) -> ndarray:\n",
    "        '''\n",
    "        Compute input gradient.\n",
    "        '''\n",
    "        sigmoid_backward = self.output * (1.0 - self.output)\n",
    "        input_grad = sigmoid_backward * output_grad\n",
    "        return input_grad"
   ]
  },
  {
   "cell_type": "code",
   "execution_count": null,
   "metadata": {},
   "outputs": [],
   "source": [
    "class Tanh(Operation):\n",
    "    '''\n",
    "    Hyperbolic tangent activation function\n",
    "    '''\n",
    "    def __init__(self) -> None:\n",
    "        super().__init__()\n",
    "\n",
    "   # def _output(self, inference: bool) -> ndarray:\n",
    "    def _output(self) -> ndarray:\n",
    "        return np.tanh(self.input_)\n",
    "\n",
    "    def _input_grad(self, output_grad: ndarray) -> ndarray:\n",
    "\n",
    "        return output_grad * (1 - self.output * self.output)"
   ]
  },
  {
   "cell_type": "code",
   "execution_count": null,
   "metadata": {},
   "outputs": [],
   "source": [
    "class ReLU(Operation):\n",
    "    '''\n",
    "    Hyperbolic tangent activation function\n",
    "    '''\n",
    "    def __init__(self) -> None:\n",
    "        super().__init__()\n",
    "\n",
    "    #def _output(self, inference: bool) -> ndarray:\n",
    "    def _output(self) -> ndarray:\n",
    "        return np.clip(self.input_, 0, None)\n",
    "\n",
    "    def _input_grad(self, output_grad: ndarray) -> ndarray:\n",
    "\n",
    "        mask = self.output >= 0\n",
    "        return output_grad * mask"
   ]
  },
  {
   "cell_type": "code",
   "execution_count": null,
   "metadata": {},
   "outputs": [],
   "source": [
    "class Linear(Operation):\n",
    "    '''\n",
    "    \"Identity\" activation function\n",
    "    '''\n",
    "\n",
    "    def __init__(self) -> None:\n",
    "        '''Pass'''        \n",
    "        super().__init__()\n",
    "\n",
    "    def _output(self) -> ndarray:\n",
    "        '''Pass through'''\n",
    "        return self.input_\n",
    "\n",
    "    def _input_grad(self, output_grad: ndarray) -> ndarray:\n",
    "        '''Pass through'''\n",
    "        return output_grad"
   ]
  },
  {
   "cell_type": "code",
   "execution_count": 2,
   "metadata": {},
   "outputs": [
    {
     "ename": "NameError",
     "evalue": "name 'Operations' is not defined",
     "output_type": "error",
     "traceback": [
      "\u001b[1;31m---------------------------------------------------------------------------\u001b[0m",
      "\u001b[1;31mNameError\u001b[0m                                 Traceback (most recent call last)",
      "\u001b[1;32m<ipython-input-2-875dfe62a748>\u001b[0m in \u001b[0;36m<module>\u001b[1;34m\u001b[0m\n\u001b[0;32m      1\u001b[0m \u001b[1;31m# Implementation of SeLU\u001b[0m\u001b[1;33m\u001b[0m\u001b[1;33m\u001b[0m\u001b[1;33m\u001b[0m\u001b[0m\n\u001b[0;32m      2\u001b[0m \u001b[1;31m# _Self-Normalizing Neural Networks: https://arxiv.org/abs/1706.02515\u001b[0m\u001b[1;33m\u001b[0m\u001b[1;33m\u001b[0m\u001b[1;33m\u001b[0m\u001b[0m\n\u001b[1;32m----> 3\u001b[1;33m \u001b[1;32mclass\u001b[0m \u001b[0mSELU\u001b[0m\u001b[1;33m(\u001b[0m\u001b[0mOperations\u001b[0m\u001b[1;33m)\u001b[0m\u001b[1;33m:\u001b[0m\u001b[1;33m\u001b[0m\u001b[1;33m\u001b[0m\u001b[0m\n\u001b[0m\u001b[0;32m      4\u001b[0m     '''\n\u001b[0;32m      5\u001b[0m     \u001b[0mScaled\u001b[0m \u001b[0mExponential\u001b[0m \u001b[0mLinear\u001b[0m \u001b[0mUnit\u001b[0m\u001b[1;33m\u001b[0m\u001b[1;33m\u001b[0m\u001b[0m\n",
      "\u001b[1;31mNameError\u001b[0m: name 'Operations' is not defined"
     ]
    }
   ],
   "source": [
    "\n",
    "# Implementation of SeLU\n",
    "# _Self-Normalizing Neural Networks: https://arxiv.org/abs/1706.02515\n",
    "class SELU(Operation):\n",
    "    '''\n",
    "    Scaled Exponential Linear Unit\n",
    "    '''\n",
    "    \n",
    "    def __init__(self) -> None:\n",
    "        super().__init__()\n",
    "\n",
    "    def _output(self) -> ndarray:\n",
    "        \n",
    "        self._scale = 1.0507009873554804934193349852946\n",
    "        self._alpha = 1.6732632423543772848170429916717\n",
    "        \n",
    "        _mask_pos = self.input_ >= 0\n",
    "        _x1_ = _mask_pos * self._scale * self.input_\n",
    "        \n",
    "        _mask_neg = self.input_ <= 0\n",
    "        _x2_ = _mask_neg * self._alpha * self._scale * (np.exp(self.input_) - 1)\n",
    "        \n",
    "        \n",
    "        return _x1_ + _x2_\n",
    "        \n",
    "    def _input_grad(self, output_grad:ndarray) -> ndarray:\n",
    "        \n",
    "        self._scale = 1.0507009873554804934193349852946\n",
    "        self._alpha = 1.6732632423543772848170429916717\n",
    "        \n",
    "        _mask_pos = self.input_ >= 0\n",
    "        _x1 = self._scale\n",
    "        \n",
    "        _mask_neg = self.input_ <= 0\n",
    "        _x2 = self._scale * self._alpha * np.exp(self.input_)\n",
    "        \n",
    "        _opt = _x1 + _x2\n",
    "        \n",
    "        return output_grad * _opt\n",
    "        "
   ]
  },
  {
   "cell_type": "code",
   "execution_count": null,
   "metadata": {},
   "outputs": [],
   "source": [
    "def Swish(Operation):\n",
    "    '''\n",
    "    Swish Activation Function\n",
    "    '''\n",
    "    def __init__(self) -> None:\n",
    "        super().__init__()\n",
    "    \n",
    "    def _output(self) -> ndarray:\n",
    "        _sig = 1.0/(1.0+np.exp(-1.0 * self.input_))\n",
    "        return self.input_ * _sig\n",
    "    \n",
    "    def _input_grad(self, output_grad:ndarray) -> ndarray:\n",
    "        _opt1 = self.input_ * (self.output * (1 - self.output))\n",
    "        return self.output + _opt1"
   ]
  }
 ],
 "metadata": {
  "hide_input": false,
  "kernelspec": {
   "display_name": "Python 3",
   "language": "python",
   "name": "python3"
  },
  "language_info": {
   "codemirror_mode": {
    "name": "ipython",
    "version": 3
   },
   "file_extension": ".py",
   "mimetype": "text/x-python",
   "name": "python",
   "nbconvert_exporter": "python",
   "pygments_lexer": "ipython3",
   "version": "3.8.5"
  },
  "toc": {
   "base_numbering": 1,
   "nav_menu": {},
   "number_sections": true,
   "sideBar": true,
   "skip_h1_title": false,
   "title_cell": "Table of Contents",
   "title_sidebar": "Contents",
   "toc_cell": false,
   "toc_position": {},
   "toc_section_display": true,
   "toc_window_display": false
  }
 },
 "nbformat": 4,
 "nbformat_minor": 2
}
