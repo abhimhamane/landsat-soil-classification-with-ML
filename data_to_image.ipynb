{
 "cells": [
  {
   "cell_type": "code",
   "execution_count": 1,
   "id": "0afd353e",
   "metadata": {},
   "outputs": [],
   "source": [
    "# Import libraries\n",
    "import numpy as np\n",
    "import matplotlib.pyplot as plt\n",
    "import pandas as pd\n",
    "\n",
    "%matplotlib inline\n"
   ]
  },
  {
   "cell_type": "code",
   "execution_count": 2,
   "id": "00d1b89a",
   "metadata": {},
   "outputs": [],
   "source": [
    "## import csv file\n",
    "\n",
    "train_df = pd.read_csv(r'D:\\python_projects\\machine_learning_project\\soil_classification\\Landsat-Soil_Data\\Soil-test_dadtaset.csv', header=None)\n",
    "test_df = pd.read_csv(r'D:\\python_projects\\machine_learning_project\\soil_classification\\Landsat-Soil_Data\\Soil-train_dadtaset.csv', header=None)\n"
   ]
  },
  {
   "cell_type": "code",
   "execution_count": 3,
   "id": "e8a60718",
   "metadata": {},
   "outputs": [],
   "source": [
    "train_X = train_df.loc[:, 16:19]\n",
    "train_Y = train_df.loc[:, 36]\n",
    "\n",
    "data = pd.concat([train_X, train_Y], axis=1)\n",
    "data.columns = ['b1', 'b2', 'b3', 'b4', 'soil_type']"
   ]
  },
  {
   "cell_type": "code",
   "execution_count": 4,
   "id": "4ddbda10",
   "metadata": {},
   "outputs": [],
   "source": [
    "train_X = train_df.loc[:, 16:19]\n",
    "train_Y = train_df.loc[:, 36]\n",
    "\n",
    "data = pd.concat([train_X, train_Y], axis=1)\n",
    "data.columns = ['b1', 'b2', 'b3', 'b4', 'soil_type']\n"
   ]
  },
  {
   "cell_type": "code",
   "execution_count": 5,
   "id": "0f077256",
   "metadata": {},
   "outputs": [],
   "source": [
    "# About data\n",
    "soil_type = ['1', '2', '3', '4', '5', '7']\n",
    "bands = ['b1', 'b2', 'b3', 'b4']"
   ]
  },
  {
   "cell_type": "code",
   "execution_count": 7,
   "id": "776c9667",
   "metadata": {},
   "outputs": [],
   "source": [
    "data_grp = data.sort_values(by='soil_type')"
   ]
  },
  {
   "cell_type": "code",
   "execution_count": 10,
   "id": "19cf8d99",
   "metadata": {},
   "outputs": [],
   "source": [
    "data_grp = np.array(data_grp)"
   ]
  },
  {
   "cell_type": "code",
   "execution_count": 12,
   "id": "8d1a4fb5",
   "metadata": {},
   "outputs": [
    {
     "data": {
      "text/plain": [
       "(2000, 5)"
      ]
     },
     "execution_count": 12,
     "metadata": {},
     "output_type": "execute_result"
    }
   ],
   "source": []
  },
  {
   "cell_type": "code",
   "execution_count": null,
   "id": "b809d11f",
   "metadata": {},
   "outputs": [],
   "source": []
  }
 ],
 "metadata": {
  "hide_input": false,
  "kernelspec": {
   "display_name": "Python 3 (ipykernel)",
   "language": "python",
   "name": "python3"
  },
  "language_info": {
   "codemirror_mode": {
    "name": "ipython",
    "version": 3
   },
   "file_extension": ".py",
   "mimetype": "text/x-python",
   "name": "python",
   "nbconvert_exporter": "python",
   "pygments_lexer": "ipython3",
   "version": "3.9.12"
  },
  "toc": {
   "base_numbering": 1,
   "nav_menu": {},
   "number_sections": true,
   "sideBar": true,
   "skip_h1_title": false,
   "title_cell": "Table of Contents",
   "title_sidebar": "Contents",
   "toc_cell": false,
   "toc_position": {},
   "toc_section_display": true,
   "toc_window_display": false
  }
 },
 "nbformat": 4,
 "nbformat_minor": 5
}
